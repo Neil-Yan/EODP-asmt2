{
 "cells": [
  {
   "cell_type": "code",
   "execution_count": null,
   "metadata": {},
   "outputs": [],
   "source": [
    "import pandas as pd\n",
    "import matplotlib as plt\n",
    "import numpy as np\n",
    "import seaborn as sns"
   ]
  },
  {
   "cell_type": "code",
   "execution_count": null,
   "metadata": {},
   "outputs": [],
   "source": [
    "# Read Files\n",
    "EU_df = pd.read_csv(\"EUmatch.csv\")\n",
    "KR_df = pd.read_csv(\"KRmatch.csv\")\n",
    "NA_df = pd.read_csv(\"NAmatch.csv\")"
   ]
  },
  {
   "cell_type": "code",
   "execution_count": null,
   "metadata": {},
   "outputs": [],
   "source": [
    "# Combine all server data\n",
    "combined_df = pd.concat([EU_df, KR_df, NA_df])"
   ]
  },
  {
   "cell_type": "code",
   "execution_count": null,
   "metadata": {},
   "outputs": [],
   "source": [
    "# TODO: identify outliers\n",
    "combined_df.describe()"
   ]
  },
  {
   "cell_type": "code",
   "execution_count": null,
   "metadata": {},
   "outputs": [],
   "source": [
    "# -- Data Cleaning --\n",
    "# Remove kills, deaths & assists then remove all null data\n",
    "combined_cleaned_df = combined_df.drop(columns=['kills', 'deaths', 'assists']).dropna()"
   ]
  },
  {
   "cell_type": "code",
   "execution_count": null,
   "metadata": {},
   "outputs": [],
   "source": [
    "# identify outliers \n",
    "combined_cleaned_df.describe()"
   ]
  },
  {
   "cell_type": "code",
   "execution_count": null,
   "metadata": {},
   "outputs": [],
   "source": [
    "# Draw Heatmap\n",
    "sns.heatmap(combined_cleaned_df.corr())\n",
    "# TODO: VAT plot?"
   ]
  },
  {
   "cell_type": "code",
   "execution_count": null,
   "metadata": {},
   "outputs": [],
   "source": [
    "# -- Split, Train & Test\n",
    "from sklearn.model_selection import train_test_split\n",
    "from sklearn.model_selection import RepeatedKFold\n",
    "from sklearn.tree import DecisionTreeRegressor\n",
    "from sklearn.model_selection import cross_val_score"
   ]
  },
  {
   "cell_type": "code",
   "execution_count": null,
   "metadata": {},
   "outputs": [],
   "source": [
    "# -- discretize the data --\n",
    "def convert2discrete(df, column_list):\n",
    "    \"\"\"\n",
    "    convert a column of the df to number\n",
    "    \"\"\"\n",
    "    for col in column_list:\n",
    "        # change the type of the column & the category codes\n",
    "        df[col] = df[col].astype('category').cat.codes\n",
    "    return df"
   ]
  },
  {
   "cell_type": "code",
   "execution_count": null,
   "metadata": {},
   "outputs": [],
   "source": [
    "combined_cleaned_converted_df = convert2discrete(\n",
    "                                combined_cleaned_df, \n",
    "                                ['champion', 'side', 'role', 'minions_killed'])\n",
    "combined_cleaned_converted_df"
   ]
  },
  {
   "cell_type": "code",
   "execution_count": null,
   "metadata": {},
   "outputs": [],
   "source": [
    "# except for predicted term\n",
    "X = combined_cleaned_converted_df.drop(columns=['kda'])\n",
    "\n",
    "# predicted term\n",
    "Y = combined_cleaned_converted_df['kda']\n",
    "\n",
    "# get train & test part data\n",
    "X_train, X_test, Y_train, Y_test = train_test_split(\n",
    "                                        X, Y, \n",
    "                                        test_size=0.2, random_state = 0)\n"
   ]
  },
  {
   "cell_type": "code",
   "execution_count": null,
   "metadata": {},
   "outputs": [],
   "source": [
    "# do 10 fold\n",
    "cross_validation = RepeatedKFold(n_splits=10, n_repeats=3, random_state=0)"
   ]
  },
  {
   "cell_type": "code",
   "execution_count": null,
   "metadata": {},
   "outputs": [],
   "source": [
    "regression_decision_tree = DecisionTreeRegressor(random_state=0)\n",
    "regression_decision_tree.fit(X_train, Y_train)"
   ]
  },
  {
   "cell_type": "code",
   "execution_count": null,
   "metadata": {},
   "outputs": [],
   "source": [
    "# TODO: find the method to test the model"
   ]
  }
 ],
 "metadata": {
  "kernelspec": {
   "display_name": "Python 3",
   "language": "python",
   "name": "python3"
  },
  "language_info": {
   "codemirror_mode": {
    "name": "ipython",
    "version": 3
   },
   "file_extension": ".py",
   "mimetype": "text/x-python",
   "name": "python",
   "nbconvert_exporter": "python",
   "pygments_lexer": "ipython3",
   "version": "3.8.10"
  },
  "orig_nbformat": 4
 },
 "nbformat": 4,
 "nbformat_minor": 2
}
